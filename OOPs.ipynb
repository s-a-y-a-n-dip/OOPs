{
 "cells": [
  {
   "cell_type": "code",
   "execution_count": null,
   "id": "fe2f7762-c30e-4792-aa2e-c7a7a40f1ec1",
   "metadata": {},
   "outputs": [],
   "source": [
    "#1. What is Object-Oriented Programming (OOP)?\n",
    "# Object-Oriented Programming (OOP) is a programming paradigm based on objects, which contain data (attributes) and methods (functions).\n",
    "# It follows four key principles: Encapsulation, Abstraction, Inheritance, and Polymorphism, making code more modular, reusable, and maintainable.\n",
    "# OOP is widely used in languages like Python, Java, and C++."
   ]
  },
  {
   "cell_type": "code",
   "execution_count": null,
   "id": "7b17f6af-666d-4c09-8ae2-55222947cc75",
   "metadata": {},
   "outputs": [],
   "source": [
    "#2. What is a class in OOP?\n",
    "# A class in Object-Oriented Programming (OOP) is a blueprint or template for creating objects. \n",
    "# It defines the attributes (data) and methods (functions) that objects of that class will have."
   ]
  },
  {
   "cell_type": "code",
   "execution_count": null,
   "id": "2291449a-1954-4685-bddb-00b862e4a7c0",
   "metadata": {},
   "outputs": [],
   "source": [
    "#3. What is an object in OOP?\n",
    "# An object in Object-Oriented Programming (OOP) is an instance of a class that has specific values for its attributes and can perform actions (methods) defined in the class."
   ]
  },
  {
   "cell_type": "code",
   "execution_count": null,
   "id": "40d260c6-5fba-4921-94d2-3525cb733f27",
   "metadata": {},
   "outputs": [],
   "source": [
    "#4. What is the difference between abstraction and encapsulation?\n",
    "#Feature\t                                 Abstraction\t                                                                  Encapsulation\n",
    "#Definition\t           Hides complex implementation and only shows essential features.\t                Hides internal details and protects data from direct access.\n",
    "#Purpose\t           Reduces complexity for the user by exposing only relevant parts.\t                Prevents unauthorized access and ensures data integrity.\n",
    "#Implementation\t       Achieved using abstract classes and interfaces.\t                                Achieved using private/protected variables and getter/setter methods.\n",
    "#Focus\t               Focuses on what an object does rather than how it does it.\t                    Focuses on how data is stored and accessed within an object.\n",
    "#Example\t           A car’s steering wheel lets you drive without knowing the engine details.\t    The engine's internal components are hidden, and you can only start the car using a key."
   ]
  },
  {
   "cell_type": "code",
   "execution_count": null,
   "id": "dfc89131-e257-42eb-a94e-8c5f71243010",
   "metadata": {},
   "outputs": [],
   "source": [
    "#5. What are dunder methods in Python?\n",
    "# Dunder methods in Python are special methods with double underscores, like __init__, __str__, and __repr__, used to define how objects behave. \n",
    "# They enable operator overloading and control interactions with objects, such as how they are initialized, compared, or printed. \n",
    "# Examples include __init__ for object creation, __str__ for string representation, and __add__ for addition operations."
   ]
  },
  {
   "cell_type": "code",
   "execution_count": null,
   "id": "dd4e53ab-5b52-4025-aa8f-c8ba3c26ad5e",
   "metadata": {},
   "outputs": [],
   "source": [
    "#6. Explain the concept of inheritance in OOP.\n",
    "# Inheritance in OOP allows a subclass to inherit attributes and methods from a parent class, promoting code reusability and extensibility. \n",
    "# The child class can override or extend the functionality of the parent class. \n",
    "# This enables creating hierarchical relationships between classes and reduces code redundancy."
   ]
  },
  {
   "cell_type": "code",
   "execution_count": null,
   "id": "89ad6064-e37d-471e-ae67-77c437251565",
   "metadata": {},
   "outputs": [],
   "source": [
    "#7.  What is polymorphism in OOP?\n",
    "# Polymorphism in OOP refers to the ability of different classes to provide a common interface, \n",
    "# allowing objects of different types to be treated as objects of a common base type. \n",
    "# It enables methods to behave differently based on the object calling them, \n",
    "# either through method overriding (runtime polymorphism) or method overloading (compile-time polymorphism)."
   ]
  },
  {
   "cell_type": "code",
   "execution_count": null,
   "id": "698f4a16-397b-4193-abdd-714589a7a215",
   "metadata": {},
   "outputs": [],
   "source": [
    "#8. How is encapsulation achieved in Python?\n",
    "# Encapsulation in Python is achieved by restricting access to certain attributes and methods of a class, \n",
    "# hiding the internal details of the class and exposing only what is necessary. \n",
    "# This is typically done using private and public access modifiers."
   ]
  },
  {
   "cell_type": "code",
   "execution_count": null,
   "id": "a1479cc5-009d-4099-a172-52a38108537c",
   "metadata": {},
   "outputs": [],
   "source": [
    "#9.  What is a constructor in Python?\n",
    "# A constructor in Python is a special method called __init__, which is automatically invoked when an object of a class is created. \n",
    "# It is used to initialize the object's attributes with specific values when an instance is instantiated."
   ]
  },
  {
   "cell_type": "code",
   "execution_count": null,
   "id": "8eb76009-151f-4cde-ad1c-39db9cff7fc9",
   "metadata": {},
   "outputs": [],
   "source": [
    "#10. What are class and static methods in Python?\n",
    "# Class Methods: Work with class attributes and can modify them. They are bound to the class, not instances.\n",
    "# Static Methods: Don't have access to the instance (self) or the class (cls). \n",
    "# They are used when you want to perform a function that doesn’t need to access or modify class or instance data."
   ]
  },
  {
   "cell_type": "code",
   "execution_count": null,
   "id": "2cf300f9-d417-4a85-81f2-294ea09e9908",
   "metadata": {},
   "outputs": [],
   "source": [
    "#11. What is method overloading in Python?\n",
    "# Method overloading in Python is not directly supported like in other languages. \n",
    "# However, it can be simulated using default arguments or variable-length arguments (*args and **kwargs), \n",
    "# allowing a method to accept different numbers or types of arguments. \n",
    "# This provides flexibility in how methods are called."
   ]
  },
  {
   "cell_type": "code",
   "execution_count": null,
   "id": "3768a874-25dd-4c3b-9759-1d723273bd77",
   "metadata": {},
   "outputs": [],
   "source": [
    "#12. What is method overriding in OOP?\n",
    "# Method overriding in OOP occurs when a subclass provides a specific implementation of a method that is already defined in its parent class. \n",
    "# This allows the subclass to modify or extend the behavior of the inherited method. \n",
    "# The method in the subclass must have the same name, signature, and parameters as the one in the parent class."
   ]
  },
  {
   "cell_type": "code",
   "execution_count": null,
   "id": "68b0018b-3cf9-4651-8c1b-5c3753e23504",
   "metadata": {},
   "outputs": [],
   "source": [
    "#13. What is a property decorator in Python?\n",
    "# The @property decorator in Python is used to define a method as a property. \n",
    "# It allows you to define methods that act like attributes, enabling controlled access to an object's data. \n",
    "# This is particularly useful when you want to get or set the value of an attribute while applying logic, without directly exposing the attribute."
   ]
  },
  {
   "cell_type": "code",
   "execution_count": null,
   "id": "3b5cd7c0-c04b-4686-800f-a8fe0745262f",
   "metadata": {},
   "outputs": [],
   "source": [
    "#14. Why is polymorphism important in OOP?\n",
    "# polymorphism is important in Object-Oriented Programming (OOP) \n",
    "# because it allows objects of different classes to be treated as instances of a common base class, enabling flexibility and scalability in code. \n",
    "# It promotes code reusability and reduces complexity by allowing the same method or operation to work with different types of objects."
   ]
  },
  {
   "cell_type": "code",
   "execution_count": null,
   "id": "cc042a10-5ccf-4c83-8bff-7c67db7922b2",
   "metadata": {},
   "outputs": [],
   "source": [
    "#15. What is an abstract class in Python?\n",
    "# An abstract class in Python is a class that cannot be instantiated directly and is designed to be subclassed. \n",
    "# It defines a common interface for its subclasses, forcing them to implement certain methods. \n",
    "# Abstract classes are used when you want to define methods that must be implemented in any child class but provide a common structure or shared functionality.\n",
    "\n",
    "# In Python, abstract classes are defined using the abc (Abstract Base Class) module, \n",
    "# and the abstract methods within them are marked with the @abstractmethod decorator."
   ]
  },
  {
   "cell_type": "code",
   "execution_count": null,
   "id": "b850d0fb-b18b-4df2-a32a-c6fd7fd8444b",
   "metadata": {},
   "outputs": [],
   "source": [
    "#16. What are the advantages of OOP?\n",
    "# OOP promotes modularity, reusability, and maintainability of code, allowing developers to build more structured, extensible, and flexible systems.\n",
    "# The key concepts like encapsulation, inheritance, and polymorphism help manage complexity, enhance code quality, \n",
    "#and make software development more efficient."
   ]
  },
  {
   "cell_type": "code",
   "execution_count": null,
   "id": "3ccc1484-405a-4106-8997-cb426c9fa371",
   "metadata": {},
   "outputs": [],
   "source": [
    "#17. What is the difference between a class variable and an instance variable?\n",
    "# Class Variables:\n",
    "# Shared by all instances.\n",
    "# Defined within the class, outside any methods.\n",
    "# Can be accessed via both the class name and instance.\n",
    "# Instance Variables:\n",
    "# Specific to each instance.\n",
    "# Defined inside methods, typically in the __init__ method.\n",
    "# Can only be accessed through an instance."
   ]
  },
  {
   "cell_type": "code",
   "execution_count": null,
   "id": "e951a759-892d-4678-9593-f9691d1837df",
   "metadata": {},
   "outputs": [],
   "source": [
    "#18. What is multiple inheritance in Python?\n",
    "# Multiple inheritance in Python refers to a feature where a class can inherit attributes and methods from more than one parent class. \n",
    "# This allows a subclass to combine the functionality of multiple base classes, which can be useful for reusing code and creating more complex behavior."
   ]
  },
  {
   "cell_type": "code",
   "execution_count": 20,
   "id": "f0cf0ccc-c81d-47ef-b27b-c63c278ef031",
   "metadata": {},
   "outputs": [],
   "source": [
    "# 19. Explain the purpose of ‘’__str__’ and ‘__repr__’ ‘ methods in Python.\n",
    "# . __str__ (String Representation):\n",
    "# Purpose: The __str__ method is used to define a human-readable, informal string representation of an object. \n",
    "# This is the string that is displayed when you print an object or convert it to a string using str().\n",
    "# When it is called: It is called when you use print() or str() on an object.\n",
    "# Goal: Provide a user-friendly string representation of the object.\n",
    "# 2. __repr__ (Formal Representation):\n",
    "# Purpose: The __repr__ method is used to define a more formal, precise string representation of the object. \n",
    "# The goal is to have a string that, if passed to eval(), would ideally recreate the object (although it's not always possible).\n",
    "# When it is called: It is called when you use repr() or when you enter the object in the interactive Python shell.\n",
    "# Goal: Provide a string that can be used to recreate the object, or at least give detailed information about it."
   ]
  },
  {
   "cell_type": "code",
   "execution_count": null,
   "id": "776f26ac-d009-42ec-9570-0cbf715e21a5",
   "metadata": {},
   "outputs": [],
   "source": [
    "#20. What is the significance of the ‘super()’ function in Python?\n",
    "# The super() function in Python is used to call methods from a parent class (superclass) in a subclass, typically in the context of inheritance. \n",
    "# It provides a way to access and invoke methods and attributes from the parent class without explicitly referencing the parent class by name. \n",
    "# This is particularly useful in method overriding to call the parent class's method and extend or modify its functionality."
   ]
  },
  {
   "cell_type": "code",
   "execution_count": null,
   "id": "5140c9c7-70ed-4fc9-9006-58bbf2a12f8a",
   "metadata": {},
   "outputs": [],
   "source": [
    "#21. What is the significance of the __del__ method in Python?\n",
    "# Object Destruction: The __del__ method is invoked when an object is deleted or when the program terminates, and the object's memory is reclaimed.\n",
    "# Cleanup Resources: It can be used to clean up external resources like files, sockets, or database connections that the object might be holding.\n",
    "# Automatic Calling: It is automatically called by Python when the object’s reference count drops to zero, which triggers garbage collection."
   ]
  },
  {
   "cell_type": "code",
   "execution_count": null,
   "id": "3d0a6956-fe9e-4b38-b589-5bb0a1ed22ef",
   "metadata": {},
   "outputs": [],
   "source": [
    "#22. What is the difference between @staticmethod and @classmethod in Python?\n",
    "# Feature\t                    @staticmethod\t                                                     @classmethod\n",
    "# First Argument\t            Does not take self or cls\t                                         Takes cls (class reference)\n",
    "# Access to Instance/State\t    No access to instance (self) or class (cls)\t                         Has access to class-level attributes and methods\n",
    "# Purpose\t                    Used for utility functions not related to instance or class\t         Used when you need to interact with class-level data\n",
    "# Called On\t                    Can be called on both instance and class, \t                         Can be called on both instance and class, \n",
    "#                               but doesn't modify instance or class state                           and modifies class state"
   ]
  },
  {
   "cell_type": "code",
   "execution_count": null,
   "id": "452d0b68-d7de-4bd1-924a-a1dee22856a6",
   "metadata": {},
   "outputs": [],
   "source": [
    "# 23. How does polymorphism work in Python with inheritance?\n",
    "# Polymorphism in Python with inheritance allows subclasses to override methods of the parent class, \n",
    "# providing different implementations for the same method. \n",
    "# This enables objects of different classes to be treated uniformly while exhibiting different behaviors based on their specific class. \n",
    "# It enhances flexibility and code reusability by allowing the same method to behave differently depending on the object."
   ]
  },
  {
   "cell_type": "code",
   "execution_count": null,
   "id": "f5ab2738-2fae-4e14-a74f-5e7e8a0243d4",
   "metadata": {},
   "outputs": [],
   "source": [
    "# 24. What is method chaining in Python OOP?\n",
    "# Method chaining in Python OOP refers to the practice of calling multiple methods on the same object in a single statement, one after the other. \n",
    "# Each method in the chain typically returns the object itself (or self), allowing the next method to be called on it. \n",
    "# This is often used for fluent interfaces and to make the code more concise and readable."
   ]
  },
  {
   "cell_type": "code",
   "execution_count": null,
   "id": "aa260cd6-8468-4fdb-8159-2d61a972bc0d",
   "metadata": {},
   "outputs": [],
   "source": [
    "#25. What is the purpose of the __call__ method in Python?\n",
    "# The __call__ method in Python allows an instance of a class to be called as if it were a function. \n",
    "# When you define the __call__ method in a class, you can create objects that behave like callable functions, \n",
    "# meaning you can use parentheses () to \"call\" the object with arguments, similar to how you would call a function."
   ]
  },
  {
   "cell_type": "code",
   "execution_count": 28,
   "id": "a8aa0b68-f634-4e79-b5ec-f15d6b367bab",
   "metadata": {},
   "outputs": [],
   "source": [
    "#Practical Questions >>"
   ]
  },
  {
   "cell_type": "code",
   "execution_count": 53,
   "id": "396a9c3a-9729-481b-a18e-e9158e58c4ca",
   "metadata": {},
   "outputs": [],
   "source": [
    "# 1. Create a parent class Animal with a method speak() that prints a generic message. Create a child class Dog that overrides the speak() method to print \"Bark!\".\n",
    "\n",
    "class Animal:\n",
    "    def speak(self):\n",
    "        print(\"Animal sound.\")\n",
    "\n",
    "class Dog(Animal):\n",
    "    def speak(self):\n",
    "        print(\"Bark!\")"
   ]
  },
  {
   "cell_type": "code",
   "execution_count": 55,
   "id": "ba13fcf9-1d1b-4ca5-b572-e6a0d23fa548",
   "metadata": {},
   "outputs": [],
   "source": [
    "an = Animal()"
   ]
  },
  {
   "cell_type": "code",
   "execution_count": 57,
   "id": "45dfb75a-e6ac-4b42-8a1e-61fa6f185db4",
   "metadata": {},
   "outputs": [
    {
     "name": "stdout",
     "output_type": "stream",
     "text": [
      "Animal sound.\n"
     ]
    }
   ],
   "source": [
    "an.speak()"
   ]
  },
  {
   "cell_type": "code",
   "execution_count": 59,
   "id": "6db1e482-826e-4e29-a2b9-0003646d9c07",
   "metadata": {},
   "outputs": [],
   "source": [
    "dg = Dog()"
   ]
  },
  {
   "cell_type": "code",
   "execution_count": 61,
   "id": "8c5a2268-58a1-4aed-9893-d1eb96cfd7ee",
   "metadata": {},
   "outputs": [
    {
     "name": "stdout",
     "output_type": "stream",
     "text": [
      "Bark!\n"
     ]
    }
   ],
   "source": [
    "dg.speak()"
   ]
  },
  {
   "cell_type": "code",
   "execution_count": 69,
   "id": "064901b1-6cd4-4329-bb2c-ba1bcfac57c5",
   "metadata": {},
   "outputs": [],
   "source": [
    "# 2. Write a program to create an abstract class Shape with a method area(). Derive classes Circle and Rectangle  from it and implement the area() method in both.\n",
    "\n",
    "from abc import ABC, abstractmethod\n",
    "import math"
   ]
  },
  {
   "cell_type": "code",
   "execution_count": 74,
   "id": "2d2cad72-3261-4813-bf28-517d6059b076",
   "metadata": {},
   "outputs": [],
   "source": [
    "# Abstract class\n",
    "class Shape(ABC):\n",
    "    @abstractmethod\n",
    "    def area(self):\n",
    "        pass\n",
    "\n",
    "class Circle(Shape):\n",
    "    def __init__(self, radius):\n",
    "        self.radius = radius\n",
    "\n",
    "    def area(self):\n",
    "        return math.pi * self.radius ** 2\n",
    "\n",
    "class Rectangle(Shape):\n",
    "    def __init__(self, length, width):\n",
    "        self.length = length\n",
    "        self.width = width\n",
    "\n",
    "    def area(self):\n",
    "        return self.length * self.width\n"
   ]
  },
  {
   "cell_type": "code",
   "execution_count": 76,
   "id": "a31aeca0-1ac5-4b0e-8cbf-816c279a3292",
   "metadata": {},
   "outputs": [
    {
     "name": "stdout",
     "output_type": "stream",
     "text": [
      "Area of Circle: 78.53981633974483\n",
      "Area of Rectangle: 24\n"
     ]
    }
   ],
   "source": [
    "circle = Circle(5)\n",
    "print(f\"Area of Circle: {circle.area()}\")\n",
    "\n",
    "rectangle = Rectangle(4, 6)\n",
    "print(f\"Area of Rectangle: {rectangle.area()}\")"
   ]
  },
  {
   "cell_type": "code",
   "execution_count": 80,
   "id": "212048b3-9689-4ac7-aaf2-e2a9878544ec",
   "metadata": {},
   "outputs": [],
   "source": [
    "#3. Implement a multi-level inheritance scenario where a class Vehicle has an attribute type. Derive a class Car and further derive a class ElectricCar that adds a battery attribute.\n",
    "\n",
    "class Vehicle:\n",
    "    def __init__(self, type):\n",
    "        self.type = type\n",
    "\n",
    "    def display_info(self):\n",
    "        print(f\"Vehicle Type: {self.type}\")\n",
    "\n",
    "class Car(Vehicle):\n",
    "    def __init__(self, type, brand):\n",
    "        super().__init__(type)\n",
    "        self.brand = brand\n",
    "\n",
    "    def display_info(self):\n",
    "        super().display_info()\n",
    "        print(f\"Brand: {self.brand}\")\n",
    "\n",
    "class ElectricCar(Car):\n",
    "    def __init__(self, type, brand, battery_capacity):\n",
    "        super().__init__(type, brand)\n",
    "        self.battery_capacity = battery_capacity\n",
    "\n",
    "    def display_info(self):\n",
    "        super().display_info()\n",
    "        print(f\"Battery Capacity: {self.battery_capacity} kWh\")"
   ]
  },
  {
   "cell_type": "code",
   "execution_count": 82,
   "id": "ff678863-f4f7-4a2c-af27-0fb2bf314c10",
   "metadata": {},
   "outputs": [
    {
     "name": "stdout",
     "output_type": "stream",
     "text": [
      "Vehicle Type: Electric Car\n",
      "Brand: Tesla\n",
      "Battery Capacity: 75 kWh\n"
     ]
    }
   ],
   "source": [
    "if __name__ == \"__main__\":\n",
    "    electric_car = ElectricCar(type=\"Electric Car\", brand=\"Tesla\", battery_capacity=75)\n",
    "    electric_car.display_info()"
   ]
  },
  {
   "cell_type": "code",
   "execution_count": 88,
   "id": "6f916c0b-6b1e-4403-99b8-5d4ba35f0a65",
   "metadata": {},
   "outputs": [
    {
     "name": "stdout",
     "output_type": "stream",
     "text": [
      "The sparrow flies high in the sky.\n",
      "The penguin cannot fly.\n"
     ]
    }
   ],
   "source": [
    "#4. Demonstrate polymorphism by creating a base class Bird with a method fly(). Create two derived classes Sparrow and Penguin that override the fly() method.\n",
    "\n",
    "class Bird:\n",
    "    def fly(self):\n",
    "        print(\"This bird can fly.\")\n",
    "\n",
    "class Sparrow(Bird):\n",
    "    def fly(self):\n",
    "        print(\"The sparrow flies high in the sky.\")\n",
    "\n",
    "class Penguin(Bird):\n",
    "    def fly(self):\n",
    "        print(\"The penguin cannot fly.\")\n",
    "\n",
    "def test_flying(bird):\n",
    "    bird.fly()\n",
    "\n",
    "sparrow = Sparrow()\n",
    "penguin = Penguin()\n",
    "\n",
    "test_flying(sparrow) \n",
    "test_flying(penguin)"
   ]
  },
  {
   "cell_type": "code",
   "execution_count": 94,
   "id": "652477b9-9ed1-4c12-9e86-c64909f2b578",
   "metadata": {},
   "outputs": [],
   "source": [
    "#5. Write a program to demonstrate encapsulation by creating a class BankAccount with private attributes  balance and methods to deposit, withdraw, and check balance.\n",
    "\n",
    "class Bank:\n",
    "    \n",
    "    def __init__(self, balance):\n",
    "        self.__balance = balance\n",
    "        \n",
    "    def deposit(self, amount):\n",
    "        self.__balance = self.__balance + amount\n",
    "    \n",
    "    def withdraw(self, amount):\n",
    "        if self.__balance >= amount:\n",
    "            self.__balance = self.__balance - amount\n",
    "            return True\n",
    "        else:\n",
    "            return False\n",
    "        \n",
    "    def get_balance(self):\n",
    "        return self.__balance\n"
   ]
  },
  {
   "cell_type": "code",
   "execution_count": 96,
   "id": "d7564a9c-2550-4213-afdd-d31579b68af8",
   "metadata": {},
   "outputs": [],
   "source": [
    "acc1 = Bank(1000)"
   ]
  },
  {
   "cell_type": "code",
   "execution_count": 98,
   "id": "571530de-f9af-499b-9b4b-6f739e26f0d8",
   "metadata": {},
   "outputs": [
    {
     "data": {
      "text/plain": [
       "1000"
      ]
     },
     "execution_count": 98,
     "metadata": {},
     "output_type": "execute_result"
    }
   ],
   "source": [
    "acc1.get_balance()"
   ]
  },
  {
   "cell_type": "code",
   "execution_count": 100,
   "id": "bbbc22a5-bef1-473d-8008-064b3f9fd7e0",
   "metadata": {},
   "outputs": [],
   "source": [
    "acc1.deposit(500)"
   ]
  },
  {
   "cell_type": "code",
   "execution_count": 102,
   "id": "e502ee07-25cd-4bfa-ab0f-23439e91e9e2",
   "metadata": {},
   "outputs": [
    {
     "data": {
      "text/plain": [
       "1500"
      ]
     },
     "execution_count": 102,
     "metadata": {},
     "output_type": "execute_result"
    }
   ],
   "source": [
    "acc1.get_balance()"
   ]
  },
  {
   "cell_type": "code",
   "execution_count": 106,
   "id": "5c533990-9fce-4738-afb8-6cce87ebced5",
   "metadata": {},
   "outputs": [
    {
     "data": {
      "text/plain": [
       "True"
      ]
     },
     "execution_count": 106,
     "metadata": {},
     "output_type": "execute_result"
    }
   ],
   "source": [
    "acc1.withdraw(100)"
   ]
  },
  {
   "cell_type": "code",
   "execution_count": 110,
   "id": "4b6a7162-0488-4837-a133-55f8334e7ddd",
   "metadata": {},
   "outputs": [
    {
     "data": {
      "text/plain": [
       "1300"
      ]
     },
     "execution_count": 110,
     "metadata": {},
     "output_type": "execute_result"
    }
   ],
   "source": [
    "acc1.get_balance()"
   ]
  },
  {
   "cell_type": "code",
   "execution_count": 112,
   "id": "205d87e4-a3b2-4f68-b922-976d7cd6d5ea",
   "metadata": {},
   "outputs": [
    {
     "data": {
      "text/plain": [
       "False"
      ]
     },
     "execution_count": 112,
     "metadata": {},
     "output_type": "execute_result"
    }
   ],
   "source": [
    "acc1.withdraw(1500)"
   ]
  },
  {
   "cell_type": "code",
   "execution_count": 119,
   "id": "8a10559e-17a4-495e-a10f-c0a9e0cd8a61",
   "metadata": {},
   "outputs": [],
   "source": [
    "#6. Demonstrate runtime polymorphism using a method play() in a base class Instrument. Derive classes Guitar and Piano that implement their own version of play().\n",
    "\n",
    "class Instrument:\n",
    "    def play(self):\n",
    "        print(\"Playing the instrument.\")\n",
    "\n",
    "class Guitar(Instrument):\n",
    "    def play(self):\n",
    "        print(\"Strumming the guitar.\")\n",
    "\n",
    "class Piano(Instrument):\n",
    "    def play(self):\n",
    "        print(\"Playing the piano keys.\")\n",
    "\n",
    "def perform_play(instrument):\n",
    "    instrument.play()\n"
   ]
  },
  {
   "cell_type": "code",
   "execution_count": 121,
   "id": "377ab01c-cf57-4bdb-b00b-d92ca76c89e6",
   "metadata": {},
   "outputs": [
    {
     "name": "stdout",
     "output_type": "stream",
     "text": [
      "Strumming the guitar.\n",
      "Playing the piano keys.\n"
     ]
    }
   ],
   "source": [
    "guitar = Guitar()\n",
    "piano = Piano()\n",
    "\n",
    "perform_play(guitar) \n",
    "perform_play(piano) "
   ]
  },
  {
   "cell_type": "code",
   "execution_count": 125,
   "id": "c00cd2aa-a970-48fd-b5cb-e5bee80780ab",
   "metadata": {},
   "outputs": [],
   "source": [
    "#7. Create a class MathOperations with a class method add_numbers() to add two numbers and a static method subtract_numbers() to subtract two numbers.\n",
    "\n",
    "class MathOperations:\n",
    "    @classmethod\n",
    "    def add_numbers(cls, a, b):\n",
    "        return a + b\n",
    "\n",
    "    @staticmethod\n",
    "    def subtract_numbers(a, b):\n",
    "        return a - b"
   ]
  },
  {
   "cell_type": "code",
   "execution_count": 127,
   "id": "bbe248e4-f2ed-4db5-8452-077f4ec4241d",
   "metadata": {},
   "outputs": [
    {
     "name": "stdout",
     "output_type": "stream",
     "text": [
      "Addition result: 15\n",
      "Subtraction result: 5\n"
     ]
    }
   ],
   "source": [
    "result_addition = MathOperations.add_numbers(10, 5)\n",
    "result_subtraction = MathOperations.subtract_numbers(10, 5)\n",
    "\n",
    "print(f\"Addition result: {result_addition}\")\n",
    "print(f\"Subtraction result: {result_subtraction}\")"
   ]
  },
  {
   "cell_type": "code",
   "execution_count": 149,
   "id": "6581d9fa-37e5-4021-817a-2ec7f6eee044",
   "metadata": {},
   "outputs": [],
   "source": [
    "#8. Implement a class Person with a class method to count the total number of persons created.\n",
    "\n",
    "class Student:\n",
    "    \n",
    "    total_students = 0 \n",
    "    def __init__(self, name):\n",
    "        self.name = name \n",
    "        Student.total_students = Student.total_students+1 \n",
    "        \n",
    "    @classmethod\n",
    "    def get_total_students(cls):\n",
    "        return cls.total_students"
   ]
  },
  {
   "cell_type": "code",
   "execution_count": 151,
   "id": "3ec8c90b-32a0-4f9f-bcbc-538bbc132311",
   "metadata": {},
   "outputs": [
    {
     "data": {
      "text/plain": [
       "0"
      ]
     },
     "execution_count": 151,
     "metadata": {},
     "output_type": "execute_result"
    }
   ],
   "source": [
    "Student.total_students"
   ]
  },
  {
   "cell_type": "code",
   "execution_count": 153,
   "id": "36bbed2c-3109-4658-8d38-f8cc50671d01",
   "metadata": {},
   "outputs": [],
   "source": [
    "std1 = Student(\"Ajay\")\n",
    "std2 = Student(\"Bijay\")"
   ]
  },
  {
   "cell_type": "code",
   "execution_count": 155,
   "id": "5a17f91d-393f-4c13-9b43-85d0defeeba7",
   "metadata": {},
   "outputs": [
    {
     "data": {
      "text/plain": [
       "'Ajay'"
      ]
     },
     "execution_count": 155,
     "metadata": {},
     "output_type": "execute_result"
    }
   ],
   "source": [
    "std1.name"
   ]
  },
  {
   "cell_type": "code",
   "execution_count": 157,
   "id": "a5c86fad-2bf9-451f-9543-1884fb0be08a",
   "metadata": {},
   "outputs": [
    {
     "data": {
      "text/plain": [
       "'Bijay'"
      ]
     },
     "execution_count": 157,
     "metadata": {},
     "output_type": "execute_result"
    }
   ],
   "source": [
    "std2.name"
   ]
  },
  {
   "cell_type": "code",
   "execution_count": 159,
   "id": "4ee07e4c-89c5-4fc8-be29-07bd6e01a222",
   "metadata": {},
   "outputs": [
    {
     "data": {
      "text/plain": [
       "2"
      ]
     },
     "execution_count": 159,
     "metadata": {},
     "output_type": "execute_result"
    }
   ],
   "source": [
    "Student.total_students"
   ]
  },
  {
   "cell_type": "code",
   "execution_count": 161,
   "id": "0364be29-2efe-483f-aa73-1c7ee6e32372",
   "metadata": {},
   "outputs": [
    {
     "data": {
      "text/plain": [
       "2"
      ]
     },
     "execution_count": 161,
     "metadata": {},
     "output_type": "execute_result"
    }
   ],
   "source": [
    "Student.get_total_students()"
   ]
  },
  {
   "cell_type": "code",
   "execution_count": 163,
   "id": "a481a628-cc79-41a1-a271-b08438ce4986",
   "metadata": {},
   "outputs": [],
   "source": [
    "#9. Write a class Fraction with attributes numerator and denominator. Override the str method to display the fraction as \"numerator/denominator\".\n",
    "class Fraction:\n",
    "    def __init__(self, numerator, denominator):\n",
    "        self.numerator = numerator\n",
    "        self.denominator = denominator\n",
    "\n",
    "    def __str__(self):\n",
    "        return f\"{self.numerator}/{self.denominator}\""
   ]
  },
  {
   "cell_type": "code",
   "execution_count": 167,
   "id": "2c7881e3-6cbe-4e9e-aeb9-fe804976a011",
   "metadata": {},
   "outputs": [
    {
     "name": "stdout",
     "output_type": "stream",
     "text": [
      "Fraction: 3/4\n"
     ]
    }
   ],
   "source": [
    "fraction = Fraction(3, 4)\n",
    "print(f\"Fraction: {fraction}\")\n"
   ]
  },
  {
   "cell_type": "code",
   "execution_count": 172,
   "id": "e6b71aa9-46f5-4b94-9ea0-bb1f0ae2fb92",
   "metadata": {},
   "outputs": [],
   "source": [
    "#10. Demonstrate operator overloading by creating a class Vector and overriding the add method to add two  vectors.\n",
    "\n",
    "class Vector:\n",
    "    def __init__(self, x, y):\n",
    "        self.x = x\n",
    "        self.y = y\n",
    "\n",
    "    def __add__(self, other):\n",
    "        if isinstance(other, Vector):\n",
    "            return Vector(self.x + other.x, self.y + other.y)\n",
    "        else:\n",
    "            raise TypeError(\"Unsupported operand type(s) for +: 'Vector' and '{}'\".format(type(other).__name__))\n",
    "\n",
    "    def __repr__(self):\n",
    "        return f\"Vector({self.x}, {self.y})\""
   ]
  },
  {
   "cell_type": "code",
   "execution_count": 174,
   "id": "ef667f5c-3f1d-42dc-bfd4-5dcf73469f50",
   "metadata": {},
   "outputs": [
    {
     "name": "stdout",
     "output_type": "stream",
     "text": [
      "Vector(6, 8)\n"
     ]
    }
   ],
   "source": [
    "v1 = Vector(2, 3)\n",
    "v2 = Vector(4, 5)\n",
    "result = v1 + v2\n",
    "\n",
    "print(result)"
   ]
  },
  {
   "cell_type": "code",
   "execution_count": 178,
   "id": "67e3fb5a-3389-497c-a5b0-3dc6347be40f",
   "metadata": {},
   "outputs": [],
   "source": [
    "# 11. Create a class Person with attributes name and age. Add a method greet() that prints \"Hello, my name is {name} and I am {age} years old.\"\n",
    "\n",
    "class Person:\n",
    "    def __init__(self, name, age):\n",
    "        self.name = name\n",
    "        self.age = age\n",
    "\n",
    "    def greet(self):\n",
    "        print(f\"Hello, my name is {self.name} and I am {self.age} years old.\")"
   ]
  },
  {
   "cell_type": "code",
   "execution_count": 180,
   "id": "1d6bdb01-34d0-4861-a97f-4270ece95277",
   "metadata": {},
   "outputs": [
    {
     "name": "stdout",
     "output_type": "stream",
     "text": [
      "Hello, my name is Sayan and I am 30 years old.\n"
     ]
    }
   ],
   "source": [
    "person = Person(\"Sayan\", 30)\n",
    "person.greet()"
   ]
  },
  {
   "cell_type": "code",
   "execution_count": 182,
   "id": "08aee0fd-5535-4723-8f98-a8ea23096c38",
   "metadata": {},
   "outputs": [],
   "source": [
    "#12.  Implement a class Student with attributes name and grades. Create a method average_grade() to compute  the average of the grades.\n",
    "\n",
    "class Student:\n",
    "    def __init__(self, name, grades):\n",
    "        self.name = name\n",
    "        self.grades = grades\n",
    "\n",
    "    def average_grade(self):\n",
    "        if len(self.grades) == 0:\n",
    "            return 0 \n",
    "        return sum(self.grades) / len(self.grades)"
   ]
  },
  {
   "cell_type": "code",
   "execution_count": 184,
   "id": "5ae14acf-4894-4425-afd7-285a34c6f3d5",
   "metadata": {},
   "outputs": [
    {
     "name": "stdout",
     "output_type": "stream",
     "text": [
      "John's average grade is 86.60\n"
     ]
    }
   ],
   "source": [
    "student = Student(\"John\", [85, 90, 78, 92, 88])\n",
    "average = student.average_grade()\n",
    "\n",
    "print(f\"{student.name}'s average grade is {average:.2f}\")"
   ]
  },
  {
   "cell_type": "code",
   "execution_count": 186,
   "id": "28593dfb-5811-47f0-948f-c8c4be344f58",
   "metadata": {},
   "outputs": [],
   "source": [
    "#13. Create a class Rectangle with methods set_dimensions() to set the dimensions and area() to calculate the area.\n",
    "class Rectangle:\n",
    "    def __init__(self):\n",
    "        self.length = 0\n",
    "        self.width = 0\n",
    "\n",
    "    def set_dimensions(self, length, width):\n",
    "        self.length = length\n",
    "        self.width = width\n",
    "\n",
    "    def area(self):\n",
    "        return self.length * self.width"
   ]
  },
  {
   "cell_type": "code",
   "execution_count": 188,
   "id": "b55d0f2b-b8b1-4580-95ca-5f4a15afa00b",
   "metadata": {},
   "outputs": [],
   "source": [
    "rectangle = Rectangle()"
   ]
  },
  {
   "cell_type": "code",
   "execution_count": 190,
   "id": "fa1c3bc1-d38c-480b-85aa-f284d99e0f8e",
   "metadata": {},
   "outputs": [
    {
     "name": "stdout",
     "output_type": "stream",
     "text": [
      "The area of the rectangle is: 15\n"
     ]
    }
   ],
   "source": [
    "rectangle.set_dimensions(5, 3)\n",
    "print(f\"The area of the rectangle is: {rectangle.area()}\")"
   ]
  },
  {
   "cell_type": "code",
   "execution_count": 199,
   "id": "76e483fa-401a-4f7e-ae82-e348d9bd1b3f",
   "metadata": {},
   "outputs": [],
   "source": [
    "# 14. Create a class Employee with a method calculate_salary() that computes the salary based on hours worked  and hourly rate. Create a derived class Manager that adds a bonus to the salary.\n",
    "\n",
    "class Employee:\n",
    "    def __init__(self, name, hours_worked, hourly_rate):\n",
    "        self.name = name\n",
    "        self.hours_worked = hours_worked\n",
    "        self.hourly_rate = hourly_rate\n",
    "\n",
    "    def calculate_salary(self):\n",
    "        salary = self.hours_worked * self.hourly_rate\n",
    "        if salary > 30000:\n",
    "            tax = 0.10 * salary\n",
    "            salary -= tax  \n",
    "        return salary\n",
    "\n",
    "class Manager(Employee):\n",
    "    def __init__(self, name, hours_worked, hourly_rate, bonus):\n",
    "        super().__init__(name, hours_worked, hourly_rate)\n",
    "        self.bonus = bonus\n",
    "\n",
    "    def calculate_salary(self):\n",
    "        salary = super().calculate_salary()  \n",
    "        salary += self.bonus\n",
    "        return salary"
   ]
  },
  {
   "cell_type": "code",
   "execution_count": 205,
   "id": "1eecb93b-8010-4843-a2fb-4c6c579f9166",
   "metadata": {},
   "outputs": [
    {
     "name": "stdout",
     "output_type": "stream",
     "text": [
      "Alice's salary: ₹36,000.00\n",
      "Bob's salary: ₹60,400.00\n"
     ]
    }
   ],
   "source": [
    "employee = Employee(\"Alice\", 160, 250) \n",
    "manager = Manager(\"Bob\", 160, 350, 10000) \n",
    "\n",
    "print(f\"{employee.name}'s salary: ₹{employee.calculate_salary():,.2f}\")\n",
    "print(f\"{manager.name}'s salary: ₹{manager.calculate_salary():,.2f}\") "
   ]
  },
  {
   "cell_type": "code",
   "execution_count": 207,
   "id": "1d83b051-22aa-404c-a289-d09f3b131bd5",
   "metadata": {},
   "outputs": [],
   "source": [
    "#15. Create a class Product with attributes name, price, and quantity. Implement a method total_price() that  calculates the total price of the product.\n",
    "class Product:\n",
    "    def __init__(self, name, price, quantity):\n",
    "        self.name = name\n",
    "        self.price = price\n",
    "        self.quantity = quantity\n",
    "\n",
    "    def total_price(self):\n",
    "        return self.price * self.quantity"
   ]
  },
  {
   "cell_type": "code",
   "execution_count": 254,
   "id": "fcd511b7-c925-4cdd-b7ef-7b930314f86c",
   "metadata": {},
   "outputs": [
    {
     "name": "stdout",
     "output_type": "stream",
     "text": [
      "Total price of Laptop: ₹100,000.00\n",
      "Total price of Smartphone: ₹75,000.00\n"
     ]
    }
   ],
   "source": [
    "product1 = Product(\"Laptop\", 50000, 2)\n",
    "product2 = Product(\"Smartphone\", 15000, 5)\n",
    "\n",
    "print(f\"Total price of {product1.name}: ₹{product1.total_price():,.2f}\") \n",
    "print(f\"Total price of {product2.name}: ₹{product2.total_price():,.2f}\")"
   ]
  },
  {
   "cell_type": "code",
   "execution_count": 256,
   "id": "df173a34-c035-43d0-999c-797040783895",
   "metadata": {},
   "outputs": [],
   "source": [
    "#16.  Create a class Animal with an abstract method sound(). Create two derived classes Cow and Sheep that implement the sound() method.\n",
    "from abc import ABC, abstractmethod\n",
    "\n",
    "class Animal(ABC):\n",
    "    @abstractmethod\n",
    "    def sound(self):\n",
    "        pass\n",
    "\n",
    "class Cow(Animal):\n",
    "    def sound(self):\n",
    "        return \"Moo\"\n",
    "\n",
    "class Sheep(Animal):\n",
    "    def sound(self):\n",
    "        return \"Baa\""
   ]
  },
  {
   "cell_type": "code",
   "execution_count": 258,
   "id": "d38ce9b9-5394-4c8e-a786-826ecf0700f3",
   "metadata": {},
   "outputs": [
    {
     "name": "stdout",
     "output_type": "stream",
     "text": [
      "Cow says: Moo\n",
      "Sheep says: Baa\n"
     ]
    }
   ],
   "source": [
    "cow = Cow()\n",
    "sheep = Sheep()\n",
    "\n",
    "print(f\"Cow says: {cow.sound()}\")\n",
    "print(f\"Sheep says: {sheep.sound()}\")"
   ]
  },
  {
   "cell_type": "code",
   "execution_count": 260,
   "id": "fd59db6c-20a0-494c-bd02-6d8da1bc50fb",
   "metadata": {},
   "outputs": [],
   "source": [
    "#17. Create a class Book with attributes title, author, and year_published. Add a method get_book_info() that  returns a formatted string with the book's details\n",
    "class Book:\n",
    "    def __init__(self, title, author, year_published):\n",
    "        self.title = title\n",
    "        self.author = author\n",
    "        self.year_published = year_published\n",
    "\n",
    "    def get_book_info(self):\n",
    "        return f\"'{self.title}' by {self.author}, published in {self.year_published}\""
   ]
  },
  {
   "cell_type": "code",
   "execution_count": 262,
   "id": "1ac95376-1dd3-4928-86b8-8d91e8063187",
   "metadata": {},
   "outputs": [
    {
     "name": "stdout",
     "output_type": "stream",
     "text": [
      "'Krishnasindhuki' by Debārati Mukhopādhyāẏa, published in 2024\n",
      "'Chander Pahar' by Bibhutibhushan Bandyopadhyay, published in 1937\n"
     ]
    }
   ],
   "source": [
    "book1 = Book(\"Krishnasindhuki\", \"Debārati Mukhopādhyāẏa\", 2024)\n",
    "book2 = Book(\"Chander Pahar\", \"Bibhutibhushan Bandyopadhyay\", 1937)\n",
    "\n",
    "print(book1.get_book_info()) \n",
    "print(book2.get_book_info())\n"
   ]
  },
  {
   "cell_type": "code",
   "execution_count": 264,
   "id": "bff1e8a8-f492-4c49-9533-36aee13e8ea4",
   "metadata": {},
   "outputs": [],
   "source": [
    "#18. Create a class House with attributes address and price. Create a derived class Mansion that adds an attribute number_of_rooms.\n",
    "# Base class House\n",
    "class House:\n",
    "    def __init__(self, address, price):\n",
    "        self.address = address\n",
    "        self.price = price\n",
    "\n",
    "    def get_house_info(self):\n",
    "        return f\"House located at {self.address}, priced at ₹{self.price}\"\n",
    "\n",
    "class Mansion(House):\n",
    "    def __init__(self, address, price, number_of_rooms):\n",
    "        super().__init__(address, price)\n",
    "        self.number_of_rooms = number_of_rooms\n",
    "\n",
    "    def get_mansion_info(self):\n",
    "        house_info = self.get_house_info()\n",
    "        return f\"{house_info}, with {self.number_of_rooms} rooms\""
   ]
  },
  {
   "cell_type": "code",
   "execution_count": 266,
   "id": "466a1692-e5aa-4f20-96ef-912e19440343",
   "metadata": {},
   "outputs": [
    {
     "name": "stdout",
     "output_type": "stream",
     "text": [
      "House located at 123 Main Street, City, priced at ₹5000000\n",
      "House located at 456 Luxury Lane, Big City, priced at ₹50000000, with 12 rooms\n"
     ]
    }
   ],
   "source": [
    "house = House(\"123 Main Street, City\", 5000000)\n",
    "mansion = Mansion(\"456 Luxury Lane, Big City\", 50000000, 12)\n",
    "\n",
    "print(house.get_house_info())\n",
    "print(mansion.get_mansion_info())"
   ]
  },
  {
   "cell_type": "code",
   "execution_count": null,
   "id": "447ead7c-7aa0-4996-9900-8f2b90a5f036",
   "metadata": {},
   "outputs": [],
   "source": []
  },
  {
   "cell_type": "code",
   "execution_count": null,
   "id": "e5c6df57-0a35-41eb-b884-4cec3d4f60f8",
   "metadata": {},
   "outputs": [],
   "source": []
  },
  {
   "cell_type": "code",
   "execution_count": null,
   "id": "08de5d53-fa08-43f4-96c3-b37174ea3803",
   "metadata": {},
   "outputs": [],
   "source": []
  }
 ],
 "metadata": {
  "kernelspec": {
   "display_name": "Python [conda env:base] *",
   "language": "python",
   "name": "conda-base-py"
  },
  "language_info": {
   "codemirror_mode": {
    "name": "ipython",
    "version": 3
   },
   "file_extension": ".py",
   "mimetype": "text/x-python",
   "name": "python",
   "nbconvert_exporter": "python",
   "pygments_lexer": "ipython3",
   "version": "3.12.7"
  }
 },
 "nbformat": 4,
 "nbformat_minor": 5
}
